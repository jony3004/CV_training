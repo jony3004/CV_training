{
 "cells": [
  {
   "cell_type": "markdown",
   "metadata": {},
   "source": [
    "# Cancer Metrics"
   ]
  },
  {
   "cell_type": "markdown",
   "metadata": {
    "tags": []
   },
   "source": [
    "### Theory"
   ]
  },
  {
   "cell_type": "markdown",
   "metadata": {},
   "source": [
    "#### Importing modules and data"
   ]
  },
  {
   "cell_type": "code",
   "execution_count": 63,
   "metadata": {
    "tags": []
   },
   "outputs": [
    {
     "ename": "ImportError",
     "evalue": "cannot import name 'plot_roc_curve' from 'sklearn.metrics' (C:\\Users\\jony0\\miniconda3\\lib\\site-packages\\sklearn\\metrics\\__init__.py)",
     "output_type": "error",
     "traceback": [
      "\u001b[1;31m---------------------------------------------------------------------------\u001b[0m",
      "\u001b[1;31mImportError\u001b[0m                               Traceback (most recent call last)",
      "Cell \u001b[1;32mIn[67], line 5\u001b[0m\n\u001b[0;32m      3\u001b[0m \u001b[38;5;28;01mimport\u001b[39;00m \u001b[38;5;21;01mnumpy\u001b[39;00m \u001b[38;5;28;01mas\u001b[39;00m \u001b[38;5;21;01mnp\u001b[39;00m\n\u001b[0;32m      4\u001b[0m \u001b[38;5;28;01mimport\u001b[39;00m \u001b[38;5;21;01mpandas\u001b[39;00m \u001b[38;5;28;01mas\u001b[39;00m \u001b[38;5;21;01mpd\u001b[39;00m\n\u001b[1;32m----> 5\u001b[0m \u001b[38;5;28;01mfrom\u001b[39;00m \u001b[38;5;21;01msklearn\u001b[39;00m\u001b[38;5;21;01m.\u001b[39;00m\u001b[38;5;21;01mmetrics\u001b[39;00m \u001b[38;5;28;01mimport\u001b[39;00m confusion_matrix, ConfusionMatrixDisplay, roc_curve, plot_roc_curve\n\u001b[0;32m      6\u001b[0m \u001b[38;5;28;01mimport\u001b[39;00m \u001b[38;5;21;01mmatplotlib\u001b[39;00m\u001b[38;5;21;01m.\u001b[39;00m\u001b[38;5;21;01mpyplot\u001b[39;00m \u001b[38;5;28;01mas\u001b[39;00m \u001b[38;5;21;01mplt\u001b[39;00m\n\u001b[0;32m      8\u001b[0m Cancer_full_data \u001b[38;5;241m=\u001b[39m pd\u001b[38;5;241m.\u001b[39mread_csv(\u001b[38;5;124m\"\u001b[39m\u001b[38;5;124mC:/Users/jony0/Downloads/CV_training/CV_training/data_science/1_metrics/CANCER_TABLE.csv\u001b[39m\u001b[38;5;124m\"\u001b[39m)\n",
      "\u001b[1;31mImportError\u001b[0m: cannot import name 'plot_roc_curve' from 'sklearn.metrics' (C:\\Users\\jony0\\miniconda3\\lib\\site-packages\\sklearn\\metrics\\__init__.py)"
     ]
    }
   ],
   "source": [
    "import warnings\n",
    "warnings.simplefilter(action='ignore', category=FutureWarning)\n",
    "import numpy as np\n",
    "import pandas as pd\n",
    "from sklearn.metrics import confusion_matrix, ConfusionMatrixDisplay, roc_curve\n",
    "import matplotlib.pyplot as plt\n",
    "\n",
    "Cancer_full_data = pd.read_csv(\"C:/Users/jony0/Downloads/CV_training/CV_training/data_science/1_metrics/CANCER_TABLE.csv\")\n",
    "Cancer_full_data['bigger_than_7'] = Cancer_full_data['diameter (cm)'] > 7\n",
    "Cancer_full_data"
   ]
  },
  {
   "cell_type": "code",
   "execution_count": 17,
   "metadata": {},
   "outputs": [
    {
     "data": {
      "image/png": "[encoded data removed]",
      "text/plain": [
       "<Figure size 640x480 with 2 Axes>"
      ]
     },
     "metadata": {},
     "output_type": "display_data"
    }
   ],
   "source": [
    "matrix = confusion_matrix(Cancer_full_data[' cancer'], Cancer_full_data['bigger_than_7'])\n",
    "disp = ConfusionMatrixDisplay(confusion_matrix=matrix, display_labels=['No cancer', 'Cancer'])\n",
    "disp.plot()\n",
    "plt.show()"
   ]
  },
  {
   "cell_type": "code",
   "execution_count": 18,
   "metadata": {
    "tags": []
   },
   "outputs": [
    {
     "name": "stdout",
     "output_type": "stream",
     "text": [
      "TP = 193\n",
      "TN = 689\n",
      "FP = 118\n",
      "FN = 0\n"
     ]
    }
   ],
   "source": [
    "TP = matrix[1][1]\n",
    "TN = matrix[0][0]\n",
    "FP = matrix[0][1]\n",
    "FN = matrix[1][0]\n",
    "print(\"TP = {}\".format(TP))\n",
    "print(\"TN = {}\".format(TN))\n",
    "print(\"FP = {}\".format(FP))\n",
    "print(\"FN = {}\".format(FN))\n"
   ]
  },
  {
   "cell_type": "markdown",
   "metadata": {
    "tags": []
   },
   "source": [
    "\n",
    "##### TP, TN, FP, FN are the building blocks from which we can infer more complicated information. For example, TP gives us the amount of times we predicted a positive outcome (in this case - cancer) and were correct, while FN is the number of times we predicted a negative outcome and were wrong (the outcome was actually positive)."
   ]
  },
  {
   "cell_type": "code",
   "execution_count": 19,
   "metadata": {
    "tags": []
   },
   "outputs": [
    {
     "name": "stdout",
     "output_type": "stream",
     "text": [
      "TPR = 1.0\n",
      "FPR = 0.14622057001239158\n"
     ]
    }
   ],
   "source": [
    "print(\"TPR = {}\".format(TP/(TP+FN)))\n",
    "print(\"FPR = {}\".format(FP/(TN+FP)))\n"
   ]
  },
  {
   "cell_type": "code",
   "execution_count": 20,
   "metadata": {},
   "outputs": [
    {
     "name": "stdout",
     "output_type": "stream",
     "text": [
      "Recall = 1.0\n",
      "Accuracy = 0.882\n",
      "Precision = 0.6205787781350482\n",
      "f1 = 0.7658730158730159\n"
     ]
    }
   ],
   "source": [
    "Recall = TP/(TP+FN)\n",
    "Precision = TP/(TP+FP)\n",
    "print(\"Recall = {}\".format(Recall))\n",
    "print(\"Accuracy = {}\".format((TP+TN)/(TP+FN+TN+FP)))\n",
    "print(\"Precision = {}\".format(Precision))\n",
    "print(\"f1 = {}\".format((2*Recall*Precision)/(Recall+Precision)))"
   ]
  },
  {
   "cell_type": "markdown",
   "metadata": {},
   "source": [
    "\n",
    "##### TPR's meaning is the number of times we predicted a positive outcome correctly out of the entirety of positive outcomes. Cancer is a great example for that - TPR is the fraction of sick patients who we were able to diagnose as patients.\n",
    "##### The FPR is calculated as the ratio between the number of negative events wrongly categorized as positive (false positives) and the total number of actual negative events.\n",
    "##### This statistic can be very useful in cases like removing cancer tumors - We would like to know what percent of tumors we couldn't were correctly identified as those we couldn't remove."
   ]
  },
  {
   "cell_type": "markdown",
   "metadata": {},
   "source": [
    "### Excercise "
   ]
  },
  {
   "cell_type": "markdown",
   "metadata": {},
   "source": [
    "##### Such a model would be better in a sense because it will better convey the complexity of the data.\n",
    "##### For example - in our current state, if a certain record is classified as having cancer, we're not aware of the likelihood of classification, it might be almost certain, but it might also be close to a 50-50 situation.\n",
    "##### This can affect the way we deal the data afterwards, if the classification isn't very certain, we might want to check it again, and thus eventually gain better metrics overall."
   ]
  },
  {
   "cell_type": "code",
   "execution_count": 56,
   "metadata": {},
   "outputs": [
    {
     "data": {
      "image/png": "[encoded data removed]",
      "text/plain": [
       "<Figure size 640x480 with 1 Axes>"
      ]
     },
     "metadata": {},
     "output_type": "display_data"
    }
   ],
   "source": [
    "def calculate_FPR_TPR(threshold):\n",
    "    cancer_func_data = Cancer_full_data.copy()\n",
    "    column_name = \"bigger_than_{}\".format(threshold)\n",
    "    cancer_func_data[column_name] = Cancer_full_data['diameter (cm)'] > threshold\n",
    "    matrix = confusion_matrix(cancer_func_data[' cancer'], cancer_func_data[column_name])\n",
    "    return matrix[1][1]/(matrix[1][1]+matrix[1][0]), matrix[0][1]/(matrix[0][1]+matrix[0][0])\n",
    "\n",
    "thresholds = [0,1,2,3,4,4.5,5,5.5,6,6.5,6.75,7,7.25,7.5,7.75,8, 8.25,8.5,8.75,9,10]\n",
    "results = np.array([calculate_FPR_TPR(threshold) for threshold in thresholds[::-1]])\n",
    "plt.plot(results[:,1],results[:,0])\n",
    "plt.xlabel('FPR')\n",
    "plt.ylabel('TPR')\n",
    "plt.title('ROC curve')\n",
    "plt.show()\n"
   ]
  },
  {
   "cell_type": "markdown",
   "metadata": {},
   "source": [
    "##### We can see according to the graph that at a certain point we get a TPR of 1 and a FPR of 0, meaning that we found a perfect classifier, which is \"diameter\">8."
   ]
  },
  {
   "cell_type": "markdown",
   "metadata": {},
   "source": [
    "##### Thus we can also concur that the area under the curve, or AUC, is 1. This proves that the model is very good, because an AUC of 1 tells us that we have a perfect classifier on the data, and we can always (based on this dataset) predict correctly the existence of cancer.\n"
   ]
  },
  {
   "cell_type": "code",
   "execution_count": 60,
   "metadata": {},
   "outputs": [
    {
     "data": {
      "text/html": [
       "<div>\n",
       "<style scoped>\n",
       "    .dataframe tbody tr th:only-of-type {\n",
       "        vertical-align: middle;\n",
       "    }\n",
       "\n",
       "    .dataframe tbody tr th {\n",
       "        vertical-align: top;\n",
       "    }\n",
       "\n",
       "    .dataframe thead th {\n",
       "        text-align: right;\n",
       "    }\n",
       "</style>\n",
       "<table border=\"1\" class=\"dataframe\">\n",
       "  <thead>\n",
       "    <tr style=\"text-align: right;\">\n",
       "      <th></th>\n",
       "      <th>diameter (cm)</th>\n",
       "      <th>cancer</th>\n",
       "      <th>bigger_than_8</th>\n",
       "    </tr>\n",
       "  </thead>\n",
       "  <tbody>\n",
       "    <tr>\n",
       "      <th>0</th>\n",
       "      <td>6.309685</td>\n",
       "      <td>False</td>\n",
       "      <td>False</td>\n",
       "    </tr>\n",
       "    <tr>\n",
       "      <th>1</th>\n",
       "      <td>4.580894</td>\n",
       "      <td>False</td>\n",
       "      <td>False</td>\n",
       "    </tr>\n",
       "    <tr>\n",
       "      <th>2</th>\n",
       "      <td>6.310071</td>\n",
       "      <td>False</td>\n",
       "      <td>False</td>\n",
       "    </tr>\n",
       "    <tr>\n",
       "      <th>3</th>\n",
       "      <td>7.495139</td>\n",
       "      <td>False</td>\n",
       "      <td>False</td>\n",
       "    </tr>\n",
       "    <tr>\n",
       "      <th>4</th>\n",
       "      <td>2.216181</td>\n",
       "      <td>False</td>\n",
       "      <td>False</td>\n",
       "    </tr>\n",
       "    <tr>\n",
       "      <th>...</th>\n",
       "      <td>...</td>\n",
       "      <td>...</td>\n",
       "      <td>...</td>\n",
       "    </tr>\n",
       "    <tr>\n",
       "      <th>995</th>\n",
       "      <td>7.831124</td>\n",
       "      <td>False</td>\n",
       "      <td>False</td>\n",
       "    </tr>\n",
       "    <tr>\n",
       "      <th>996</th>\n",
       "      <td>4.614356</td>\n",
       "      <td>False</td>\n",
       "      <td>False</td>\n",
       "    </tr>\n",
       "    <tr>\n",
       "      <th>997</th>\n",
       "      <td>6.988584</td>\n",
       "      <td>False</td>\n",
       "      <td>False</td>\n",
       "    </tr>\n",
       "    <tr>\n",
       "      <th>998</th>\n",
       "      <td>1.367865</td>\n",
       "      <td>False</td>\n",
       "      <td>False</td>\n",
       "    </tr>\n",
       "    <tr>\n",
       "      <th>999</th>\n",
       "      <td>3.982651</td>\n",
       "      <td>False</td>\n",
       "      <td>False</td>\n",
       "    </tr>\n",
       "  </tbody>\n",
       "</table>\n",
       "<p>1000 rows × 3 columns</p>\n",
       "</div>"
      ],
      "text/plain": [
       "     diameter (cm)   cancer  bigger_than_8\n",
       "0         6.309685    False          False\n",
       "1         4.580894    False          False\n",
       "2         6.310071    False          False\n",
       "3         7.495139    False          False\n",
       "4         2.216181    False          False\n",
       "..             ...      ...            ...\n",
       "995       7.831124    False          False\n",
       "996       4.614356    False          False\n",
       "997       6.988584    False          False\n",
       "998       1.367865    False          False\n",
       "999       3.982651    False          False\n",
       "\n",
       "[1000 rows x 3 columns]"
      ]
     },
     "execution_count": 60,
     "metadata": {},
     "output_type": "execute_result"
    }
   ],
   "source": [
    "Cancer_full_data['bigger_than_8'] = Cancer_full_data['diameter (cm)'] > 8\n",
    "Cancer_full_data.drop(columns=['bigger_than_7'])\n",
    "\n"
   ]
  },
  {
   "cell_type": "markdown",
   "metadata": {},
   "source": [
    "##### We now transformed the model to a classification model based on whether the diameter is larger or smaller than 8. This way we get a classification model with a perfect accuracy and precision, we got that from the roc curve and the fact that at a certain point (8) we have a perfect TPR and FPR = 0."
   ]
  },
  {
   "cell_type": "code",
   "execution_count": 61,
   "metadata": {},
   "outputs": [
    {
     "data": {
      "image/png": "[encoded data removed]",
      "text/plain": [
       "<Figure size 640x480 with 2 Axes>"
      ]
     },
     "metadata": {},
     "output_type": "display_data"
    }
   ],
   "source": [
    "matrix = confusion_matrix(Cancer_full_data[' cancer'], Cancer_full_data['bigger_than_8'])\n",
    "disp = ConfusionMatrixDisplay(confusion_matrix=matrix, display_labels=['No cancer', 'Cancer'])\n",
    "disp.plot()\n",
    "plt.show()\n"
   ]
  },
  {
   "cell_type": "markdown",
   "metadata": {},
   "source": [
    "##### We can clearly see that the confusion matrix is \"perfect\", we have no wrong prediction. "
   ]
  },
  {
   "cell_type": "code",
   "execution_count": 62,
   "metadata": {},
   "outputs": [
    {
     "name": "stdout",
     "output_type": "stream",
     "text": [
      "TP = 193\n",
      "TN = 807\n",
      "FP = 0\n",
      "FN = 0\n",
      "TPR = 1.0\n",
      "FPR = 0.0\n",
      "Recall = 1.0\n",
      "Accuracy = 1.0\n",
      "Precision = 1.0\n",
      "f1 = 1.0\n"
     ]
    }
   ],
   "source": [
    "TP = matrix[1][1]\n",
    "TN = matrix[0][0]\n",
    "FP = matrix[0][1]\n",
    "FN = matrix[1][0]\n",
    "print(\"TP = {}\".format(TP))\n",
    "print(\"TN = {}\".format(TN))\n",
    "print(\"FP = {}\".format(FP))\n",
    "print(\"FN = {}\".format(FN))\n",
    "print(\"TPR = {}\".format(TP/(TP+FN)))\n",
    "print(\"FPR = {}\".format(FP/(TN+FP)))\n",
    "Recall = TP/(TP+FN)\n",
    "Precision = TP/(TP+FP)\n",
    "print(\"Recall = {}\".format(Recall))\n",
    "print(\"Accuracy = {}\".format((TP+TN)/(TP+FN+TN+FP)))\n",
    "print(\"Precision = {}\".format(Precision))\n",
    "print(\"f1 = {}\".format((2*Recall*Precision)/(Recall+Precision)))"
   ]
  },
  {
   "cell_type": "markdown",
   "metadata": {},
   "source": [
    "##### We can clearly see that this classification is significantly better, because although the TPRs and recalls are the same, here the accuracy, precision and f1 are all perfect due to us not having any misclassifications. I'd reccomend using this model, with 'diameter' = 8 as a threshold."
   ]
  },
  {
   "cell_type": "code",
   "execution_count": 72,
   "metadata": {},
   "outputs": [
    {
     "data": {
      "image/png": "[encoded data removed]",
      "text/plain": [
       "<Figure size 640x480 with 1 Axes>"
      ]
     },
     "metadata": {},
     "output_type": "display_data"
    }
   ],
   "source": [
    "fpr, tpr, thresholds = roc_curve(Cancer_full_data[' cancer'], Cancer_full_data['diameter (cm)'])\n",
    "plt.plot(fpr,tpr)\n",
    "plt.xlabel('FPR')\n",
    "plt.ylabel('TPR')\n",
    "plt.title('ROC curve')\n",
    "plt.show()"
   ]
  }
 ],
 "metadata": {
  "anaconda-cloud": {},
  "kernelspec": {
   "display_name": "Python 3 (ipykernel)",
   "language": "python",
   "name": "python3"
  },
  "language_info": {
   "codemirror_mode": {
    "name": "ipython",
    "version": 3
   },
   "file_extension": ".py",
   "mimetype": "text/x-python",
   "name": "python",
   "nbconvert_exporter": "python",
   "pygments_lexer": "ipython3",
   "version": "3.10.8"
  }
 },
 "nbformat": 4,
 "nbformat_minor": 4
}
